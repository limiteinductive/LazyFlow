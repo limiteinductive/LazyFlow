{
 "cells": [
  {
   "cell_type": "code",
   "execution_count": 1,
   "metadata": {},
   "outputs": [],
   "source": [
    "#default_exp core\n",
    "%load_ext autoreload\n",
    "%autoreload aut 2"
   ]
  },
  {
   "cell_type": "markdown",
   "metadata": {},
   "source": [
    "# Core"
   ]
  },
  {
   "cell_type": "code",
   "execution_count": 34,
   "metadata": {},
   "outputs": [],
   "source": [
    "#export\n",
    "from returns.pipeline import flow\n",
    "from returns.maybe import Maybe\n",
    "\n",
    "from lazyflow.utils import identity, listify\n",
    "\n",
    "class Flow:\n",
    "    \n",
    "    def __init__(self, input=Maybe, functions=identity, outputs=Maybe):\n",
    "        self.input = input\n",
    "        self.functions = listify(functions)\n",
    "        self.outputs = outputs\n",
    "\n",
    "\n",
    "    def __call__(self, input=None):\n",
    "\n",
    "        if input:\n",
    "            return flow(input, *self.functions)\n",
    "\n",
    "        self.outputs = flow(self.input, *self.functions)\n",
    "        return self.outputs\n",
    "\n",
    "\n",
    "    def __rshift__(self, f):\n",
    "\n",
    "        i = self()\n",
    "\n",
    "        return Flow(self.input, self.functions+f.functions, flow(i, *f.functions))\n",
    "\n",
    "\n",
    "    \n"
   ]
  },
  {
   "cell_type": "code",
   "execution_count": 40,
   "metadata": {},
   "outputs": [],
   "source": [
    "f = Flow('hello', lambda x: 2*x)"
   ]
  },
  {
   "cell_type": "code",
   "execution_count": 41,
   "metadata": {},
   "outputs": [
    {
     "data": {
      "text/plain": [
       "'hellohellohellohello'"
      ]
     },
     "execution_count": 41,
     "metadata": {},
     "output_type": "execute_result"
    }
   ],
   "source": [
    "g = f >> f\n",
    "g()"
   ]
  },
  {
   "cell_type": "code",
   "execution_count": 37,
   "metadata": {},
   "outputs": [
    {
     "data": {
      "text/plain": [
       "('hellohello', 'hellohello')"
      ]
     },
     "execution_count": 37,
     "metadata": {},
     "output_type": "execute_result"
    }
   ],
   "source": [
    "f(), f.outputs"
   ]
  },
  {
   "cell_type": "code",
   "execution_count": 38,
   "metadata": {},
   "outputs": [
    {
     "data": {
      "text/plain": [
       "[1, 2, 3, 4]"
      ]
     },
     "execution_count": 38,
     "metadata": {},
     "output_type": "execute_result"
    }
   ],
   "source": [
    "[1, 2, 3] + [4]"
   ]
  },
  {
   "cell_type": "code",
   "execution_count": null,
   "metadata": {},
   "outputs": [],
   "source": []
  }
 ],
 "metadata": {
  "kernelspec": {
   "display_name": "Python 3.9.7 64-bit",
   "language": "python",
   "name": "python3"
  }
 },
 "nbformat": 4,
 "nbformat_minor": 2
}
