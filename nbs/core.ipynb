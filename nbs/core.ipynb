{
 "cells": [
  {
   "cell_type": "code",
   "execution_count": null,
   "metadata": {},
   "outputs": [],
   "source": [
    "#default_exp core"
   ]
  },
  {
   "cell_type": "markdown",
   "metadata": {},
   "source": [
    "# Core"
   ]
  },
  {
   "cell_type": "code",
   "execution_count": null,
   "metadata": {},
   "outputs": [],
   "source": [
    "#export\n",
    "from returns.pipeline import flow\n",
    "from returns.maybe import Maybe\n",
    "\n",
    "#from ..lazyflow.utils import identity\n",
    "\n",
    "class Flow:\n",
    "    \n",
    "    def __init__(self, input=Maybe, functions=Maybe, outputs=Maybe):\n",
    "        self.input = input\n",
    "        self.functions = functions\n",
    "        self.output = outputs\n",
    "\n",
    "\n",
    "    def __call__(self, input=None):\n",
    "\n",
    "        if input:\n",
    "            return flow(input, self.functions)\n",
    "\n",
    "        self.outputs = flow(self.input, self.functions)\n",
    "\n",
    "        return self.outputs\n",
    "\n",
    "\n",
    "    \n"
   ]
  },
  {
   "cell_type": "code",
   "execution_count": null,
   "metadata": {},
   "outputs": [],
   "source": [
    "f = Flow()"
   ]
  },
  {
   "cell_type": "code",
   "execution_count": null,
   "metadata": {},
   "outputs": [
    {
     "data": {
      "text/plain": [
       "<Maybe: <class 'returns.maybe.Maybe'>>"
      ]
     },
     "execution_count": null,
     "metadata": {},
     "output_type": "execute_result"
    }
   ],
   "source": [
    "f()"
   ]
  },
  {
   "cell_type": "code",
   "execution_count": null,
   "metadata": {},
   "outputs": [],
   "source": []
  }
 ],
 "metadata": {
  "kernelspec": {
   "display_name": "Python 3.9.7 64-bit",
   "language": "python",
   "name": "python3"
  }
 },
 "nbformat": 4,
 "nbformat_minor": 2
}
